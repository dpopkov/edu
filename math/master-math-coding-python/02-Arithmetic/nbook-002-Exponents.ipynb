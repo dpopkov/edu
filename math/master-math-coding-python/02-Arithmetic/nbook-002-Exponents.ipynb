{
 "cells": [
  {
   "cell_type": "code",
   "execution_count": 7,
   "id": "e336c60b",
   "metadata": {},
   "outputs": [
    {
     "name": "stdout",
     "output_type": "stream",
     "text": [
      "3 ** 2 = 9\n",
      "3 ** 4 = 81\n",
      "3 ** 2 * 3 ** 4 = 729\n",
      "3 ** 6 = 729\n"
     ]
    }
   ],
   "source": [
    "v3to2 = 3 ** 2\n",
    "v3to4 = 3 ** 4\n",
    "\n",
    "print('3 ** 2 = %g' %v3to2)\n",
    "print('3 ** 4 = %g' %v3to4)\n",
    "v3to2times3to4 = v3to2 * v3to4\n",
    "print('3 ** 2 * 3 ** 4 = %g' %v3to2times3to4)\n",
    "v3to6 = 3 ** 6\n",
    "print('3 ** 6 = %g' %v3to6)"
   ]
  },
  {
   "cell_type": "code",
   "execution_count": 10,
   "id": "3e60f89f",
   "metadata": {},
   "outputs": [
    {
     "data": {
      "text/plain": [
       "3.0"
      ]
     },
     "execution_count": 10,
     "metadata": {},
     "output_type": "execute_result"
    }
   ],
   "source": [
    "# Using exponent for calculating square root\n",
    "x = 9\n",
    "x ** (1/2)"
   ]
  },
  {
   "cell_type": "code",
   "execution_count": 16,
   "id": "8776eaee",
   "metadata": {},
   "outputs": [
    {
     "data": {
      "text/latex": [
       "$\\displaystyle 3^2 \\times 3^4 = 3^{2 + 4} = 729$"
      ],
      "text/plain": [
       "<IPython.core.display.Math object>"
      ]
     },
     "metadata": {},
     "output_type": "display_data"
    }
   ],
   "source": [
    "from IPython.display import display, Math\n",
    "\n",
    "# Using Latex to display exponent\n",
    "display(Math('3^2 \\\\times 3^4 = 3^{2 + 4} = %g' %(3 ** 2 * 3 ** 4)))"
   ]
  },
  {
   "cell_type": "code",
   "execution_count": 27,
   "id": "95338333",
   "metadata": {},
   "outputs": [
    {
     "data": {
      "text/latex": [
       "$\\displaystyle x^{3/4} \\times 4^y = 3933.09$"
      ],
      "text/plain": [
       "<IPython.core.display.Math object>"
      ]
     },
     "metadata": {},
     "output_type": "display_data"
    },
    {
     "data": {
      "text/latex": [
       "$\\displaystyle \\frac{3^3}{x^y} = 0.00735558$"
      ],
      "text/plain": [
       "<IPython.core.display.Math object>"
      ]
     },
     "metadata": {},
     "output_type": "display_data"
    },
    {
     "data": {
      "text/latex": [
       "$\\displaystyle 10^{x-4} = 10$"
      ],
      "text/plain": [
       "<IPython.core.display.Math object>"
      ]
     },
     "metadata": {},
     "output_type": "display_data"
    }
   ],
   "source": [
    "# Exercises\n",
    "x = 5\n",
    "y = 5.1\n",
    "ans = x**(3/4) * 4**y\n",
    "display(Math('x^{3/4} \\\\times 4^y = %g' %ans))\n",
    "ans = 3**3 / x**y\n",
    "display(Math('\\\\frac{3^3}{x^y} = %g' %ans))\n",
    "ans = 10**(x - 4)\n",
    "display(Math('10^{x-4} = %g' %ans))"
   ]
  }
 ],
 "metadata": {
  "kernelspec": {
   "display_name": "Python 3 (ipykernel)",
   "language": "python",
   "name": "python3"
  },
  "language_info": {
   "codemirror_mode": {
    "name": "ipython",
    "version": 3
   },
   "file_extension": ".py",
   "mimetype": "text/x-python",
   "name": "python",
   "nbconvert_exporter": "python",
   "pygments_lexer": "ipython3",
   "version": "3.10.9"
  }
 },
 "nbformat": 4,
 "nbformat_minor": 5
}
