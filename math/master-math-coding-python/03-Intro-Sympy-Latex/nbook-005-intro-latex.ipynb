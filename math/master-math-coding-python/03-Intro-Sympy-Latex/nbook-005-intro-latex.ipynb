{
 "cells": [
  {
   "cell_type": "code",
   "execution_count": 3,
   "id": "5a5c9187",
   "metadata": {},
   "outputs": [],
   "source": [
    "from IPython.display import Math,display"
   ]
  },
  {
   "cell_type": "code",
   "execution_count": 5,
   "id": "b9051cc0",
   "metadata": {},
   "outputs": [
    {
     "data": {
      "text/latex": [
       "$\\displaystyle 4 + 3 = 7$"
      ],
      "text/plain": [
       "<IPython.core.display.Math object>"
      ]
     },
     "metadata": {},
     "output_type": "display_data"
    }
   ],
   "source": [
    "# Introduction to LaTex\n",
    "# How to write equations and special characters using latex coding in Python\n",
    "\n",
    "display(Math('4 + 3 = 7'))"
   ]
  },
  {
   "cell_type": "code",
   "execution_count": 16,
   "id": "26e5683e",
   "metadata": {},
   "outputs": [
    {
     "data": {
      "text/latex": [
       "$\\displaystyle \\sigma = \\mu \\times \\sqrt{5x + 3z - 17}$"
      ],
      "text/plain": [
       "<IPython.core.display.Math object>"
      ]
     },
     "metadata": {},
     "output_type": "display_data"
    },
    {
     "data": {
      "text/latex": [
       "$\\displaystyle \\sqrt(x)\\sqrt(x)$"
      ],
      "text/plain": [
       "<IPython.core.display.Math object>"
      ]
     },
     "metadata": {},
     "output_type": "display_data"
    }
   ],
   "source": [
    "# Using LaTex code\n",
    "display(Math('\\\\sigma = \\\\mu \\\\times \\\\sqrt{5x + 3z - 17}'))\n",
    "display(Math('\\\\sqrt(x)\\\\sqrt(x)'))"
   ]
  },
  {
   "cell_type": "code",
   "execution_count": 13,
   "id": "5f578d88",
   "metadata": {},
   "outputs": [
    {
     "data": {
      "text/latex": [
       "$\\displaystyle x_m$"
      ],
      "text/plain": [
       "<IPython.core.display.Math object>"
      ]
     },
     "metadata": {},
     "output_type": "display_data"
    },
    {
     "data": {
      "text/latex": [
       "$\\displaystyle x_{mm} + y^{n+2k-15}$"
      ],
      "text/plain": [
       "<IPython.core.display.Math object>"
      ]
     },
     "metadata": {},
     "output_type": "display_data"
    }
   ],
   "source": [
    "# Using subscripts and superscripts\n",
    "display(Math('x_m'))\n",
    "display(Math('x_{mm} + y^{n+2k-15}'))"
   ]
  },
  {
   "cell_type": "code",
   "execution_count": 18,
   "id": "3de4f2b3",
   "metadata": {},
   "outputs": [
    {
     "data": {
      "text/latex": [
       "$\\displaystyle \\frac{1 + x}{2v - s^{t + 4r}}$"
      ],
      "text/plain": [
       "<IPython.core.display.Math object>"
      ]
     },
     "metadata": {},
     "output_type": "display_data"
    }
   ],
   "source": [
    "# Using fractions\n",
    "display(Math('\\\\frac{1 + x}{2v - s^{t + 4r}}'))"
   ]
  },
  {
   "cell_type": "code",
   "execution_count": 20,
   "id": "9a3d037c",
   "metadata": {},
   "outputs": [
    {
     "data": {
      "text/latex": [
       "$\\displaystyle \\text{The answer to this equation is }\\frac{1 + x}{2v - s^{t + 4r}}$"
      ],
      "text/plain": [
       "<IPython.core.display.Math object>"
      ]
     },
     "metadata": {},
     "output_type": "display_data"
    }
   ],
   "source": [
    "# Using normal text embedded in formula\n",
    "display(Math('\\\\text{The answer to this equation is }\\\\frac{1 + x}{2v - s^{t + 4r}}'))"
   ]
  },
  {
   "cell_type": "markdown",
   "id": "8215a889",
   "metadata": {},
   "source": [
    "## This is a Markdown cell and it is not for running actual Python code\n",
    "* Select Markdown in the top menu\n",
    "* Enter Markdown text\n",
    "* Run the cell by Ctrl+Enter\n",
    "* Double-click to edit again\n",
    "\n",
    "### Using Latex inside Markdown\n",
    "As paragraph:\n",
    "$$\\frac{1 + x}{2v - s^{t + 4r}}$$\n",
    "Or inline:\n",
    "$\\frac{1 + x}{2v - s^{t + 4r}}$"
   ]
  },
  {
   "cell_type": "code",
   "execution_count": 27,
   "id": "87eb7784",
   "metadata": {},
   "outputs": [
    {
     "data": {
      "text/latex": [
       "$\\displaystyle 4x + 5y - 8z = 17$"
      ],
      "text/plain": [
       "<IPython.core.display.Math object>"
      ]
     },
     "metadata": {},
     "output_type": "display_data"
    },
    {
     "data": {
      "text/latex": [
       "$\\displaystyle \\sin(2\\pi f t + \\theta)$"
      ],
      "text/plain": [
       "<IPython.core.display.Math object>"
      ]
     },
     "metadata": {},
     "output_type": "display_data"
    },
    {
     "data": {
      "text/latex": [
       "$\\displaystyle e = m c^2$"
      ],
      "text/plain": [
       "<IPython.core.display.Math object>"
      ]
     },
     "metadata": {},
     "output_type": "display_data"
    },
    {
     "data": {
      "text/latex": [
       "$\\displaystyle \\frac{4 + 5 x^2}{(1 + x)(1 - x)}$"
      ],
      "text/plain": [
       "<IPython.core.display.Math object>"
      ]
     },
     "metadata": {},
     "output_type": "display_data"
    }
   ],
   "source": [
    "# LaTex exercises\n",
    "# 1)\n",
    "display(Math('4x + 5y - 8z = 17'))\n",
    "# 2)\n",
    "display(Math('\\\\sin(2\\\\pi f t + \\\\theta)'))\n",
    "# 3)\n",
    "display(Math('e = m c^2'))\n",
    "# 4)\n",
    "display(Math('\\\\frac{4 + 5 x^2}{(1 + x)(1 - x)}'))"
   ]
  }
 ],
 "metadata": {
  "kernelspec": {
   "display_name": "Python 3 (ipykernel)",
   "language": "python",
   "name": "python3"
  },
  "language_info": {
   "codemirror_mode": {
    "name": "ipython",
    "version": 3
   },
   "file_extension": ".py",
   "mimetype": "text/x-python",
   "name": "python",
   "nbconvert_exporter": "python",
   "pygments_lexer": "ipython3",
   "version": "3.10.9"
  }
 },
 "nbformat": 4,
 "nbformat_minor": 5
}
